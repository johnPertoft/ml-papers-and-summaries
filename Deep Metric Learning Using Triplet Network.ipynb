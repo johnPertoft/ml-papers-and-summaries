{
 "cells": [
  {
   "cell_type": "markdown",
   "metadata": {},
   "source": [
    "# Deep Metric Learning Using Triplet Network\n",
    "\n",
    "## Introduction\n",
    "* Deep learning methods provide useful representations of data.\n",
    "* Usually just a side effect of main task, e.g. classification.\n",
    "\n",
    "* In metric learning, the network is explicitly trained to have distinguished representations for dissimilar pairs\n",
    "\n",
    "* similarity measure,similarity function ??\n",
    "* Labels of form $r(x, x_1) > r(x, x_2)$ where $x_1$ is more similar to $x$ than $x_2$.\n",
    "\n",
    "## The Triplet Network\n",
    "* 3 instances of the same feedforward network $f$. Shared weights.\n",
    "* $f$ computes an embedding.\n",
    "* Objective is to classify which of $x^-$ and $x^+$ is of same class as reference $x$\n",
    "* Compute $||f(x) - f(x^-)||_2$ and $||f(x) - f(x^-)||_2$ and concatenate.\n",
    "* This is passed to a softmax layer.\n",
    "* Dropout of 0.5.\n",
    "* They try both negative log likelihood loss and MSE loss and find MSE to be better.\n",
    "* SGD with momentum of 0.9 with decaying learning rate starting at 0.5\n",
    "* Training was stopped after error rate of train triplets classification did not improve further.\n",
    "<img src=\"figs/tripletnet.png\"></img>\n",
    "\n",
    "## Evaluation\n",
    "* They compute the embedding and train a 1-layer network on these for the full class classification task (10 for MNIST).\n",
    "* On MNIST they get 99.5% accuracy compared to 97.9% of Siamese network.\n",
    "* Similar results with other classifiers like SVM and KNN.\n",
    "* They project embeddings via PCA to 2 dimensions and visualizes it which shows nice clustering.\n",
    "\n",
    "## Future Work\n",
    "* Unsupervised training\n",
    "    * Take patched of images to determine if they're close, \"same\" class for training of the triplet network.\n",
    "    * Temporal information for the same idea."
   ]
  },
  {
   "cell_type": "code",
   "execution_count": null,
   "metadata": {},
   "outputs": [],
   "source": []
  }
 ],
 "metadata": {
  "anaconda-cloud": {},
  "kernelspec": {
   "display_name": "Python [conda root]",
   "language": "python",
   "name": "conda-root-py"
  },
  "language_info": {
   "codemirror_mode": {
    "name": "ipython",
    "version": 3
   },
   "file_extension": ".py",
   "mimetype": "text/x-python",
   "name": "python",
   "nbconvert_exporter": "python",
   "pygments_lexer": "ipython3",
   "version": "3.6.4"
  },
  "latex_envs": {
   "LaTeX_envs_menu_present": true,
   "autocomplete": true,
   "bibliofile": "biblio.bib",
   "cite_by": "apalike",
   "current_citInitial": 1,
   "eqLabelWithNumbers": true,
   "eqNumInitial": 1,
   "hotkeys": {
    "equation": "Ctrl-E",
    "itemize": "Ctrl-I"
   },
   "labels_anchors": false,
   "latex_user_defs": false,
   "report_style_numbering": false,
   "user_envs_cfg": false
  }
 },
 "nbformat": 4,
 "nbformat_minor": 2
}
