{
 "cells": [
  {
   "cell_type": "markdown",
   "metadata": {},
   "source": [
    "# Backpropagation\n",
    "Simple implementation and explanation of backward propagation using linear layers with some simple activation functions that I did when studying this initially.\n",
    "\n",
    "Backpropagation computes the gradients of the parameters in a computational graph. Backpropagation is the chain rule of differentiation where we are able to reuse computed partial differentials by stepping backwards."
   ]
  },
  {
   "cell_type": "code",
   "execution_count": 1,
   "metadata": {
    "collapsed": true
   },
   "outputs": [],
   "source": [
    "import numpy as np\n",
    "from sklearn.datasets import make_gaussian_quantiles\n",
    "import matplotlib.pyplot as plt"
   ]
  },
  {
   "cell_type": "markdown",
   "metadata": {},
   "source": [
    "## Activation functions"
   ]
  },
  {
   "cell_type": "code",
   "execution_count": 2,
   "metadata": {
    "collapsed": true
   },
   "outputs": [],
   "source": [
    "def sigmoid(z):\n",
    "    return 1.0 / (1. + np.exp(-z))\n",
    "\n",
    "def d_sigmoid(z):\n",
    "    return sigmoid(z) * (1 - sigmoid(z))\n",
    "\n",
    "def sigmoid_backwards(a):\n",
    "    return a * (1 - a)\n",
    "\n",
    "SIGMOID_ACTIVATION = (sigmoid, sigmoid_backwards)\n",
    "\n",
    "\"\"\"\n",
    "def tanh(z):\n",
    "    return np.tanh(z)\n",
    "\n",
    "def d_tanh(z):\n",
    "    pass\n",
    "\n",
    "TANH_ACTIVATION = (tanh, d_tanh)\n",
    "\"\"\"\n",
    "\n",
    "def relu(z):\n",
    "    return np.max(0, z)\n",
    "\n",
    "def d_relu(z):\n",
    "    return 1.0 * (z > 0)\n",
    "\n",
    "RELU_ACTIVATION = (relu, d_relu)"
   ]
  },
  {
   "cell_type": "markdown",
   "metadata": {},
   "source": [
    "## Backpropagation implementation"
   ]
  },
  {
   "cell_type": "code",
   "execution_count": 15,
   "metadata": {
    "collapsed": true
   },
   "outputs": [],
   "source": [
    "def init_parameters(layer_shapes):\n",
    "    \"\"\"Create initial random parameters.\"\"\"\n",
    "    parameters = {}\n",
    "    for i, shape in enumerate(layer_shapes):\n",
    "        parameters[\"W{}\".format(i+1)] = np.random.randn(*shape) * 0.01\n",
    "        parameters[\"b{}\".format(i+1)] = np.zeros((1, shape[1]))\n",
    "    return parameters\n",
    "        \n",
    "def forward(X, parameters, activation_fns):\n",
    "    \"\"\"Compute the activations at each layer.\"\"\"\n",
    "    A = X\n",
    "    activations = [X]\n",
    "    for i, (activation_fn, _) in enumerate(activation_fns):\n",
    "        W = parameters[\"W{}\".format(i+1)]\n",
    "        b = parameters[\"b{}\".format(i+1)]\n",
    "        A = activation_fn(A @ W + b)\n",
    "        activations.append(A)\n",
    "    return activations\n",
    "\n",
    "def backward(parameters, activation_fns, activations, dA_loss):\n",
    "    \"\"\"Compute gradients for all parameters.\"\"\"\n",
    "    gradients = {}\n",
    "    dA = dA_loss\n",
    "    for l in reversed(range(1, len(activations))):\n",
    "        W = parameters[\"W{}\".format(l)]\n",
    "        b = parameters[\"b{}\".format(l)]\n",
    "        A = activations[l]\n",
    "        m = A.shape[0]\n",
    "        A_prev = activations[l-1]\n",
    "        _, diff_activation_fn = activation_fns[l-1]  # TODO: Make this consistent with naming of parameters.\n",
    "        dZ = dA * diff_activation_fn(A)\n",
    "        dW = (1 / m ) * A_prev.T @ dZ\n",
    "        db = np.mean(dZ, axis=0, keepdims=True)\n",
    "        gradients[\"W{}\".format(l)] = dW\n",
    "        gradients[\"b{}\".format(l)] = db\n",
    "        dA = dZ @ W.T\n",
    "    return gradients\n",
    "    \n",
    "def update(parameters, gradients, learning_rate):\n",
    "    \"\"\"Compute the next set of parameters given the gradients and learning rate.\"\"\"\n",
    "    return {k: v - learning_rate * gradients[k] for k, v in parameters.items()}"
   ]
  },
  {
   "cell_type": "markdown",
   "metadata": {},
   "source": [
    "## Model example: binary classifier"
   ]
  },
  {
   "cell_type": "code",
   "execution_count": 38,
   "metadata": {
    "collapsed": false
   },
   "outputs": [
    {
     "data": {
      "image/png": "[encoded data removed]",
      "text/plain": [
       "<matplotlib.figure.Figure at 0x7f5e1c0e1048>"
      ]
     },
     "metadata": {},
     "output_type": "display_data"
    },
    {
     "name": "stdout",
     "output_type": "stream",
     "text": [
      "0.45\n"
     ]
    }
   ],
   "source": [
    "def binary_classifier(X_train, Y_train, X_test, Y_test, learning_rate, train_steps):\n",
    "    input_dim = X.shape[1]\n",
    "    layer_shapes = [(input_dim, 10), (10, 5), (5, 1)]\n",
    "    activation_fns = [SIGMOID_ACTIVATION, SIGMOID_ACTIVATION, SIGMOID_ACTIVATION]\n",
    "    assert len(layer_shapes) == len(activation_fns)\n",
    "    \n",
    "    parameters = init_parameters(layer_shapes)\n",
    "    \n",
    "    def cross_entropy_loss(A, Y):\n",
    "        \"\"\"Compute the cross entropy loss.\"\"\"\n",
    "        m = A.shape[0]\n",
    "        return (-(1 / m) * (np.log(A).T @ Y + np.log(1 - A).T @ (1 - Y))).squeeze()\n",
    "    \n",
    "    # TODO: numerical issues with this?\n",
    "    def d_cross_entropy_loss(A, Y):\n",
    "        \"\"\"Compute the derivative of the cross entropy loss w.r.t. the net's output.\"\"\"\n",
    "        m = A.shape[0]\n",
    "        return -Y / A + (1 - Y) / (1 - A)\n",
    "    \n",
    "    # Train the network.\n",
    "    losses = np.zeros(train_steps)\n",
    "    for i in range(train_steps):\n",
    "        activations = forward(X_train, parameters, activation_fns)\n",
    "        A = activations[-1]\n",
    "        losses[i] = cross_entropy_loss(A, Y_train)\n",
    "        dA_loss = d_cross_entropy_loss(A, Y_train)\n",
    "        gradients = backward(parameters, activation_fns, activations, dA_loss)\n",
    "        parameters = update(parameters, gradients, learning_rate)\n",
    "    \n",
    "    def predict(X):\n",
    "        \"\"\"Closure to predict with the trained network.\"\"\"\n",
    "        activations = forward(X, parameters, activation_fns)\n",
    "        output = activations[-1]\n",
    "        return output > 0.5\n",
    "    \n",
    "    return predict, losses\n",
    "\n",
    "N = 1000\n",
    "X, Y = make_gaussian_quantiles(n_classes=2, n_features=2, n_samples=N)\n",
    "Y = Y[:, np.newaxis]\n",
    "split_idx = int(0.8 * N)\n",
    "X_train = X[:split_idx]\n",
    "Y_train = Y[:split_idx]\n",
    "X_test = X[split_idx:]\n",
    "Y_test = Y[split_idx:]\n",
    "\n",
    "predict, losses = binary_classifier(X_train,\n",
    "                                    Y_train,\n",
    "                                    X_test,\n",
    "                                    Y_test,\n",
    "                                    learning_rate=0.05,\n",
    "                                    train_steps=1000)\n",
    "\n",
    "plt.plot(losses)\n",
    "plt.show()\n",
    "Y_pred = predict(X_test)\n",
    "accuracy = (Y_pred.astype(int) == Y_test).mean()\n",
    "print(accuracy)"
   ]
  },
  {
   "cell_type": "code",
   "execution_count": 20,
   "metadata": {
    "collapsed": false
   },
   "outputs": [
    {
     "ename": "TypeError",
     "evalue": "binary_classifier() missing 4 required positional arguments: 'X_test', 'Y_test', 'learning_rate', and 'train_steps'",
     "output_type": "error",
     "traceback": [
      "\u001b[0;31m---------------------------------------------------------------------------\u001b[0m",
      "\u001b[0;31mTypeError\u001b[0m                                 Traceback (most recent call last)",
      "\u001b[0;32m<ipython-input-20-367f15953f67>\u001b[0m in \u001b[0;36m<module>\u001b[0;34m()\u001b[0m\n\u001b[1;32m      3\u001b[0m \u001b[0;31m# TODO train/test set\u001b[0m\u001b[0;34m\u001b[0m\u001b[0;34m\u001b[0m\u001b[0m\n\u001b[1;32m      4\u001b[0m \u001b[0;34m\u001b[0m\u001b[0m\n\u001b[0;32m----> 5\u001b[0;31m \u001b[0mbinary_classifier_predict\u001b[0m \u001b[0;34m=\u001b[0m \u001b[0mbinary_classifier\u001b[0m\u001b[0;34m(\u001b[0m\u001b[0mX_train\u001b[0m\u001b[0;34m,\u001b[0m \u001b[0mY_train\u001b[0m\u001b[0;34m)\u001b[0m\u001b[0;34m\u001b[0m\u001b[0m\n\u001b[0m",
      "\u001b[0;31mTypeError\u001b[0m: binary_classifier() missing 4 required positional arguments: 'X_test', 'Y_test', 'learning_rate', and 'train_steps'"
     ]
    }
   ],
   "source": [
    "X = None\n",
    "Y = None\n",
    "# TODO train/test set\n",
    "\n",
    "binary_classifier_predict = binary_classifier(X_train, Y_train)"
   ]
  },
  {
   "cell_type": "code",
   "execution_count": null,
   "metadata": {
    "collapsed": true
   },
   "outputs": [],
   "source": []
  }
 ],
 "metadata": {
  "anaconda-cloud": {},
  "kernelspec": {
   "display_name": "Python [conda root]",
   "language": "python",
   "name": "conda-root-py"
  },
  "language_info": {
   "codemirror_mode": {
    "name": "ipython",
    "version": 3
   },
   "file_extension": ".py",
   "mimetype": "text/x-python",
   "name": "python",
   "nbconvert_exporter": "python",
   "pygments_lexer": "ipython3",
   "version": "3.5.2"
  },
  "latex_envs": {
   "bibliofile": "biblio.bib",
   "cite_by": "apalike",
   "current_citInitial": 1,
   "eqLabelWithNumbers": true,
   "eqNumInitial": 0
  }
 },
 "nbformat": 4,
 "nbformat_minor": 1
}
