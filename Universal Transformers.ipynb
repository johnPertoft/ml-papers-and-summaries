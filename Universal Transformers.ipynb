{
 "cells": [
  {
   "cell_type": "markdown",
   "metadata": {},
   "source": [
    "# Universal Transformers\n",
    "\n",
    "## TLDR\n",
    "* The Tniversal Transformer is a generalization of the Transformer architecture.\n",
    "* Basically, for each token in input sequence\n",
    "    * Compute its representation via some self attention mechanism (and attention over encoder representations for the decoder)\n",
    "    * Apply transition function on each representation (the weights of the transition function are shared).\n",
    "    * Repeat this for some number of steps, i.e. the recurrence happens \"depth-wise\" rather than time wise.\n",
    "        * Also possible/beneficial to have dynamic halting here meaning different number of steps per token.\n",
    "\n",
    "## Introduction"
   ]
  }
 ],
 "metadata": {
  "kernelspec": {
   "display_name": "Python 3",
   "language": "python",
   "name": "python3"
  },
  "language_info": {
   "codemirror_mode": {
    "name": "ipython",
    "version": 3
   },
   "file_extension": ".py",
   "mimetype": "text/x-python",
   "name": "python",
   "nbconvert_exporter": "python",
   "pygments_lexer": "ipython3",
   "version": "3.6.5"
  }
 },
 "nbformat": 4,
 "nbformat_minor": 2
}
