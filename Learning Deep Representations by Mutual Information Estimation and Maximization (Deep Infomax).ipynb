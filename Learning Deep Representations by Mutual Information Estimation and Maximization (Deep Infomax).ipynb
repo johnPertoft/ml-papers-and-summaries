{
 "cells": [
  {
   "cell_type": "markdown",
   "metadata": {},
   "source": [
    "# Learning Deep Representations by Mutual Information Estimation and Maximization (Deep Infomax)\n",
    "\n",
    "## TLDR\n",
    "* Unsupervised learning of image representations.\n",
    "* This is done by maximizing mutual information between image and its computed representation.\n",
    "\n",
    "## Introduction\n",
    "TODO: general recap of MI somewhere\n",
    "\n",
    "## Deep InfoMax\n",
    "* Input image $X$.\n",
    "* A CNN $C_\\psi$ to get an $M x M$ feature map.\n",
    "* A network $f_\\psi$ that takes the $M x M$ feature map and produces a global representation $Y$.\n",
    "* A network $T_\\omega$ that takes $X$ and $Y$ and approximates the mutual information.\n",
    "\n",
    "### Mutual Information Estimation\n",
    "TODO"
   ]
  },
  {
   "cell_type": "code",
   "execution_count": null,
   "metadata": {},
   "outputs": [],
   "source": []
  }
 ],
 "metadata": {
  "celltoolbar": "Slideshow",
  "kernelspec": {
   "display_name": "Python 3",
   "language": "python",
   "name": "python3"
  },
  "language_info": {
   "codemirror_mode": {
    "name": "ipython",
    "version": 3
   },
   "file_extension": ".py",
   "mimetype": "text/x-python",
   "name": "python",
   "nbconvert_exporter": "python",
   "pygments_lexer": "ipython3",
   "version": "3.6.5"
  }
 },
 "nbformat": 4,
 "nbformat_minor": 2
}
