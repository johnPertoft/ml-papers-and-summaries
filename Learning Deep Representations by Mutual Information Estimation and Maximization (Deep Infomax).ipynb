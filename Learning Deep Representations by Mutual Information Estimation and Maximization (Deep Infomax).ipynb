{
 "cells": [
  {
   "cell_type": "markdown",
   "metadata": {},
   "source": [
    "# Learning Deep Representations by Mutual Information Estimation and Maximization (Deep Infomax)\n",
    "\n",
    "## TLDR\n",
    "* Unsupervised learning of image representations.\n",
    "* This is done by maximizing mutual information between image and its computed representation.\n",
    "\n",
    "##"
   ]
  }
 ],
 "metadata": {
  "celltoolbar": "Slideshow",
  "kernelspec": {
   "display_name": "Python 3",
   "language": "python",
   "name": "python3"
  },
  "language_info": {
   "codemirror_mode": {
    "name": "ipython",
    "version": 3
   },
   "file_extension": ".py",
   "mimetype": "text/x-python",
   "name": "python",
   "nbconvert_exporter": "python",
   "pygments_lexer": "ipython3",
   "version": "3.6.5"
  }
 },
 "nbformat": 4,
 "nbformat_minor": 2
}
