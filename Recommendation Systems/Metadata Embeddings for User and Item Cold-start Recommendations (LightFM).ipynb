{
 "cells": [
  {
   "cell_type": "markdown",
   "metadata": {},
   "source": [
    "# Metadata Embeddings for User and Item Cold-start Recommendations\n",
    "* This paper deals with recommendations of items to users by combining collaborative and content features.\n",
    "* The model also produces useful embeddings with semantic information that can be used for related tasks, like tag recommendation.\n",
    "\n",
    "## Recommendation Systems Briefly\n",
    "* Collaborative Models\n",
    "    * TODO\n",
    "    * Item cold start\n",
    "    * factorization of user-item interaction matrix into what?\n",
    "* Content Based Models\n",
    "    * TODO\n",
    "    * User cold start\n",
    "    \n",
    "## Goals of LightFM\n",
    "\n",
    "## LightFM model definition\n",
    "* $U$ is the set of users.\n",
    "* $I$ is the set of items.\n",
    "* $(u, i) \\in U \\times I$ is the set of all user-item interactions. Users can interact positively or negatively with items.\n",
    "* $F^U$ is the set of user features, $f_u \\subset F^U$ are the features of a user $u$.\n",
    "* $F^I$ is the set of item features, $f_i \\subset F^I$ are the features of an item $i$.\n",
    "* Each feature is represented by an embedding, $\\mathbf{e}^U_f$ and $\\mathbf{e}^I_f$ for users and items respectively.\n",
    "* A user's latent representation is $q_u = \\sum_{j \\in f_u} \\mathbf{e}^U_j$\n",
    "* An item's latent representation is $p_i = \\sum_{j \\in f_i} \\mathbf{e}^I_j$\n",
    "* TODO: bias term\n",
    "\n",
    "## Experiments\n",
    "\n",
    "## TODO\n",
    "* cold start problem\n",
    "* pure collaborative model difficulties\n",
    "* pure content model difficulties\n",
    "* pure cb only look at feature co-occurrence and not that users like two different items"
   ]
  },
  {
   "cell_type": "code",
   "execution_count": null,
   "metadata": {
    "collapsed": true
   },
   "outputs": [],
   "source": []
  }
 ],
 "metadata": {
  "kernelspec": {
   "display_name": "Python 3",
   "language": "python",
   "name": "python3"
  },
  "language_info": {
   "codemirror_mode": {
    "name": "ipython",
    "version": 3
   },
   "file_extension": ".py",
   "mimetype": "text/x-python",
   "name": "python",
   "nbconvert_exporter": "python",
   "pygments_lexer": "ipython3",
   "version": "3.6.3"
  }
 },
 "nbformat": 4,
 "nbformat_minor": 2
}
