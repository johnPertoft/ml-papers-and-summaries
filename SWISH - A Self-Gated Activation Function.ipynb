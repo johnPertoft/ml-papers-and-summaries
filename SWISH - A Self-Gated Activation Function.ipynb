{
 "cells": [
  {
   "cell_type": "markdown",
   "metadata": {},
   "source": [
    "# Swish: A Self-Gated Activation Function\n",
    "\n",
    "## Proposed Benefits\n",
    "* Unbounded above\n",
    "    * Good because it avoids saturation, i.e. gradients going to zero. \n",
    "* Bounded below\n",
    "    * Good because of regularizing effects where large negative inputs are \"forgotten\". Important in start of training.\n",
    "    * Relu and softplus also has this effect but Swish gives small negative output for small negative input also.\n",
    "* Non-monotonic (goes down a bit around 0)\n",
    "    * Good because see above.\n",
    "    * Also increases expressivity and gradient flow. Many preactivations are in this range.\n",
    "* Smooth\n",
    "    * Generally easier to optimize.\n",
    "\n",
    "TODO: weight inits, use same as for relu? arent some of them designed with relu in mind?\n",
    "\n",
    "## Usage notes\n",
    "* If used with batchnorm, the scale parameter of batchnorm $\\gamma$ must be used.\n",
    "    * e.g. ```tf.layers.batch_normalization(..., scale=True, ...)```\n",
    "\n",
    "## Questions\n",
    "* Are the 2d smoothness plots enough to say that it's likely easier to optimize?"
   ]
  },
  {
   "cell_type": "code",
   "execution_count": 2,
   "metadata": {
    "collapsed": false
   },
   "outputs": [
    {
     "data": {
      "image/png": "[encoded data removed]",
      "text/plain": [
       "<matplotlib.figure.Figure at 0x7f74a22294e0>"
      ]
     },
     "metadata": {},
     "output_type": "display_data"
    }
   ],
   "source": [
    "import numpy as np\n",
    "import matplotlib.pyplot as plt\n",
    "\n",
    "def sigmoid(x):\n",
    "    return 1. / (1. + np.exp(-x))\n",
    "\n",
    "def swish(x):\n",
    "    return x * sigmoid(x)\n",
    "\n",
    "def swish_derivative(x):\n",
    "    fx = swish(x)\n",
    "    return fx + sigmoid(x) * (1. - fx)\n",
    "\n",
    "def swish_second_derivative(x):\n",
    "    # Non simplified.\n",
    "    sigma_x = sigmoid(x)\n",
    "    fx = swish(x)\n",
    "    dfx = swish_derivative(x)\n",
    "    return dfx + sigma_x * (1. - sigma_x) * (1. - fx) + sigmoid(x) * (-dfx)\n",
    "\n",
    "x = np.arange(-4., 4., 0.01)\n",
    "y = swish(x)\n",
    "dx = swish_derivative(x)\n",
    "dxdx = swish_second_derivative(x)\n",
    "\n",
    "plt.plot(x, y, label=\"swish\")\n",
    "plt.plot(x, dx, label=\"swish derivative\")\n",
    "plt.plot(x, dxdx, label=\"swish 2nd derivative\")\n",
    "plt.legend()\n",
    "plt.show()"
   ]
  },
  {
   "cell_type": "markdown",
   "metadata": {},
   "source": [
    "## Experiments\n",
    "* Improve training on deep networks.\n",
    "    * asda\n",
    "* Benchmarks vs other activation functions.\n",
    "    * CIFAR-10\n",
    "    * ImageNet\n",
    "    * Machine Translation"
   ]
  },
  {
   "cell_type": "markdown",
   "metadata": {},
   "source": [
    "## Discussion\n",
    "* Interesting experiment?:\n",
    "    * Choose some tasks.\n",
    "    * Use an mlp $\\mathcal{R}^1 \\rightarrow \\mathcal{R}^1$ as activation function for some model. Share weights of this mlp for all places this activation function is used.\n",
    "    * Train the whole thing, i.e. weights of both the actual model as well as weights of mlp parametrized activation function.\n",
    "    * See if it approaches same form for many tasks, could give insight in what is the \"best\" activation function.\n",
    "    \n",
    "* People on twitter doesn't seem to agree that Swish would be better than just ReLU or something else. In fact it often seems worse. TODO: Links"
   ]
  },
  {
   "cell_type": "code",
   "execution_count": null,
   "metadata": {
    "collapsed": true
   },
   "outputs": [],
   "source": []
  }
 ],
 "metadata": {
  "anaconda-cloud": {},
  "kernelspec": {
   "display_name": "Python [conda root]",
   "language": "python",
   "name": "conda-root-py"
  },
  "language_info": {
   "codemirror_mode": {
    "name": "ipython",
    "version": 3
   },
   "file_extension": ".py",
   "mimetype": "text/x-python",
   "name": "python",
   "nbconvert_exporter": "python",
   "pygments_lexer": "ipython3",
   "version": "3.5.2"
  },
  "latex_envs": {
   "bibliofile": "biblio.bib",
   "cite_by": "apalike",
   "current_citInitial": 1,
   "eqLabelWithNumbers": true,
   "eqNumInitial": 0
  }
 },
 "nbformat": 4,
 "nbformat_minor": 1
}
