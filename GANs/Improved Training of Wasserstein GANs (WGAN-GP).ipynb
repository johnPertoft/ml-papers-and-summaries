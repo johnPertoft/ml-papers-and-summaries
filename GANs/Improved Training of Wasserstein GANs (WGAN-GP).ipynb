{
 "cells": [
  {
   "cell_type": "markdown",
   "metadata": {},
   "source": [
    "# Improved Training of Wasserstein GANs\n",
    "\n",
    "WGANs are great but in some cases, it can still produce low quality samples or fail to converge\n",
    "\n",
    "This could be because of the weight clipping to enforce Lipchitz constraint\n",
    "\n",
    "A new way to enforce this is proposed via penalizing the norm of the gradient of the critic\n",
    "\n",
    "This leads to faster convergence, and higher quality. Can also train many different architecture with very little hyperparameter tuning, including 101 layer resnet and also discrete output language model. Cool!"
   ]
  },
  {
   "cell_type": "code",
   "execution_count": null,
   "metadata": {
    "collapsed": true
   },
   "outputs": [],
   "source": []
  }
 ],
 "metadata": {
  "anaconda-cloud": {},
  "kernelspec": {
   "display_name": "Python [conda root]",
   "language": "python",
   "name": "conda-root-py"
  },
  "language_info": {
   "codemirror_mode": {
    "name": "ipython",
    "version": 3
   },
   "file_extension": ".py",
   "mimetype": "text/x-python",
   "name": "python",
   "nbconvert_exporter": "python",
   "pygments_lexer": "ipython3",
   "version": "3.5.2"
  },
  "latex_envs": {
   "bibliofile": "biblio.bib",
   "cite_by": "apalike",
   "current_citInitial": 1,
   "eqLabelWithNumbers": true,
   "eqNumInitial": 0
  }
 },
 "nbformat": 4,
 "nbformat_minor": 1
}
