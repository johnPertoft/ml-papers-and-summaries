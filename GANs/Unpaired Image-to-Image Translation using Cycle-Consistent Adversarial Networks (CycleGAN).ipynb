{
 "cells": [
  {
   "cell_type": "markdown",
   "metadata": {},
   "source": [
    "# Unpaired Image-to-Image Translation using Cycle-Consistent Adversarial Networks\n",
    "This paper presents an approach to image translation, i.e. translating and image in one \"domain\" to its corresponding image in another domain. This approach does not require training data to consist of image pair but instead just trains on two bags of images that we want to be able to translate between. The main idea is to use an adversarial loss to accomplish this.\n",
    "\n",
    "TODO define image domains. In the paper they are denoted by $X$ and $Y$.\n",
    "\n",
    "The parts of CycleGAN\n",
    "* One generator $G: X \\rightarrow Y$\n",
    "* One generator $F: Y \\rightarrow X$\n",
    "* One discriminator $D_X: X \\rightarrow TODO$\n",
    "* One discriminator $D_Y: Y \\rightarrow TODO$\n",
    "\n"
   ]
  },
  {
   "cell_type": "code",
   "execution_count": null,
   "metadata": {
    "collapsed": true
   },
   "outputs": [],
   "source": []
  }
 ],
 "metadata": {
  "anaconda-cloud": {},
  "kernelspec": {
   "display_name": "Python [conda root]",
   "language": "python",
   "name": "conda-root-py"
  },
  "language_info": {
   "codemirror_mode": {
    "name": "ipython",
    "version": 3
   },
   "file_extension": ".py",
   "mimetype": "text/x-python",
   "name": "python",
   "nbconvert_exporter": "python",
   "pygments_lexer": "ipython3",
   "version": "3.5.4"
  },
  "latex_envs": {
   "LaTeX_envs_menu_present": true,
   "autocomplete": true,
   "bibliofile": "biblio.bib",
   "cite_by": "apalike",
   "current_citInitial": 1,
   "eqLabelWithNumbers": true,
   "eqNumInitial": 1,
   "hotkeys": {
    "equation": "Ctrl-E",
    "itemize": "Ctrl-I"
   },
   "labels_anchors": false,
   "latex_user_defs": false,
   "report_style_numbering": false,
   "user_envs_cfg": false
  }
 },
 "nbformat": 4,
 "nbformat_minor": 1
}
