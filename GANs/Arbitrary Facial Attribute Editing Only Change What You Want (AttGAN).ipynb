{
 "cells": [
  {
   "cell_type": "markdown",
   "metadata": {},
   "source": [
    "# Arbitrary Facial Attribute Editing: Only Change What You Want (AttGAN)\n",
    "\n",
    "## Summary\n",
    "* The idea that the attempt of separating all the attribute information from the latent representation being excessive is suggested.\n",
    "    * May result in loss of information.\n",
    "* With the goal of attribute editing, what we need is just the correct change of attributes and no contraints on the latent representation.\n",
    "* To do this the constraint is placed on the generated image in the form of an attribute classifier instead to make sure the attribute manipulation looks good.\n",
    "* Reconstruction learning signal for preserving non attribute details.\n",
    "* Adversarial learning signal for realism in generated images. \n",
    "\n",
    "\n",
    "## Attribute GAN (AttGAN)\n",
    "* Model parts\n",
    "    * Encoder $G_{enc}$\n",
    "    * Decoder $G_{dec}$\n",
    "    * Discriminator $D$ \n",
    "    * Attribute classifier $C$\n",
    "    * $D$ and $C$ share layers.\n",
    "* Data streams\n",
    "    * Input image is $x^a$, $a$ are binary attributes.\n",
    "    * Encoder $G_{enc}$ encodes input $x^a$ to latent $z$\n",
    "    * Decoder $G_{dec}$ decodes $z$ conditioned on target attributes $b$ to $\\hat{x^b}$\n",
    "    * Decoder $G_{dec}$ decodes $z$ conditioned on actual attributes $a$ to $\\hat{x^a}$\n",
    "    * Attribute classifier $C$ predicts $b'$ from $\\hat{x^b}$\n",
    "* Learning\n",
    "    * Attribute classification loss\n",
    "        * The weights of $G_{enc}$ and $G_{dec}$ are updated to output $\\hat{x^b}$ that minimize the cross entropy between predicted attributes $b'$ and target attributes $b$.\n",
    "        * The weights of $C$ are updated to minimize the cross entropy between predicted attributes $a'$ and actual attributes $a$ from training data.\n",
    "    * Reconstruction loss\n",
    "        * The weights of $G_{enc}$ and $G_{dec}$ are updated to minimize the $l_1$ loss between input sample $x^a$ and the decoded image conditioned on actual attributes, $\\hat{x^a}$.\n",
    "    * Adversarial loss\n",
    "        * $D$ is updated to output high values for (real) input samples $x^a$ and to output low values for (fake) $\\hat{x^b}$\n",
    "        * $G_{enc}$ and $G_{dec}$ are updated to output high values for (fake) $\\hat{x^b}$.\n",
    "        * WGAN-GP is used meaning $D$ is constrained to be Lipchitz-1 via the gradient penalty.\n",
    "    * The different types of losses are scaled by hyper parameters and added to form the total loss.\n",
    "\n",
    "\n",
    "### Details For Training\n",
    "TODO\n",
    "* how are attributes fed in to the generator, tiled into feature maps?\n",
    "* How are attributes sampled during training\n",
    "\n",
    "\n",
    "### Attribute Intensity Manipulation\n",
    "* Attributes can/should actually be represented continuously instead of the binary representation assumed above.\n",
    "* $z$ is divided into $z_{int}$ which models intensity of attributes and $z'$ which has same role as $z$.\n",
    "* $z_{int}$ is modeled as samples from $U(0, 1)$. Note that it only applies to $z_{int}$ and not rest of latent code.\n",
    "    * This is enforced via adversarial training (like AAE). Note: I guess separate discriminator for this?\n",
    "* Intensity adjusted target attributes via $b_{int} = z_{int} * (2b - 1)$\n",
    "    * Same treatment for reconstructions.\n",
    "    * This is what's fed into the generator along with $z'$.\n",
    "    \n",
    "## Experiments\n",
    "TODO\n",
    "\n",
    "## TODO/discussion: \n",
    "* Similarities to stargan?\n",
    "* similarities to cyclegan? and or UNIT\n",
    "    * we have the reconstruction\n",
    "    * classifier in the form of the discriminator\n",
    "    * Maybe more explicit in attgan"
   ]
  },
  {
   "cell_type": "code",
   "execution_count": null,
   "metadata": {},
   "outputs": [],
   "source": []
  }
 ],
 "metadata": {
  "kernelspec": {
   "display_name": "Python 3",
   "language": "python",
   "name": "python3"
  },
  "language_info": {
   "codemirror_mode": {
    "name": "ipython",
    "version": 3
   },
   "file_extension": ".py",
   "mimetype": "text/x-python",
   "name": "python",
   "nbconvert_exporter": "python",
   "pygments_lexer": "ipython3",
   "version": "3.6.3"
  }
 },
 "nbformat": 4,
 "nbformat_minor": 2
}
