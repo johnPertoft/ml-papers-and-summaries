{
 "cells": [
  {
   "cell_type": "markdown",
   "metadata": {},
   "source": [
    "# Deep Residual Learning for Image Recognition\n",
    "\n",
    "## Introduction\n",
    "*Is more layers generally better for performance?*\n",
    "* Problems with vanishing/exploding gradients that hinders convergence.\n",
    "    * Mostly solved with intermediate normalization steps like *Batch Normalization*\n",
    "* Performance degradation of deeper networks.\n",
    "    * Not from overfitting, training error can increase when using a deeper network.\n",
    "    * This shouldn't be the case. Consider adding identity layers to a shallower net which shouldn't increase training error. This indicates that the problem lies with how optimization/learning happens.\n",
    "    * This paper addresses this degradation problem via residual mappings.\n",
    "    \n",
    "## Residual mappings\n",
    "underlying mapping H(X) etc\n",
    "\n",
    "**In practice**\n",
    "* Short-cut connections, where the input to some stacked layers are also bypassing said layers and then added to the output of them.\n",
    "* No weights on the skip connection so no extra parameters. I.e. skip connections are identity mappings."
   ]
  },
  {
   "cell_type": "code",
   "execution_count": null,
   "metadata": {
    "collapsed": true
   },
   "outputs": [],
   "source": []
  }
 ],
 "metadata": {
  "kernelspec": {
   "display_name": "Python [conda root]",
   "language": "python",
   "name": "conda-root-py"
  },
  "language_info": {
   "codemirror_mode": {
    "name": "ipython",
    "version": 3
   },
   "file_extension": ".py",
   "mimetype": "text/x-python",
   "name": "python",
   "nbconvert_exporter": "python",
   "pygments_lexer": "ipython3",
   "version": "3.5.2"
  },
  "latex_envs": {
   "bibliofile": "biblio.bib",
   "cite_by": "apalike",
   "current_citInitial": 1,
   "eqLabelWithNumbers": true,
   "eqNumInitial": 0
  }
 },
 "nbformat": 4,
 "nbformat_minor": 1
}
