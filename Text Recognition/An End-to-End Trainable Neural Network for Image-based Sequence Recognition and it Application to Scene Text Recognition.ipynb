{
 "cells": [
  {
   "cell_type": "markdown",
   "metadata": {},
   "source": [
    "# An End-to-End Trainable Neural Network for Image-based Sequence Recognition and it Application to Scene Text Recognition\n",
    "\n",
    "* This paper only concerns the OCR part, i.e. it doesn't find text in a larger image but rather assumes the text fills out most of the input image.\n",
    "* It's an early paper but sort of defines (not sure if first) a common basic structure that is built upon in future papers.\n",
    "* Highlevel steps are as follows\n",
    "    * Preprocess image to fixed height, width doesn't matter.\n",
    "    * Apply CNN on image to produce feature sequence of shape (1, ?).\n",
    "    * Apply RNN on feature sequence and output a character prediction at each timestep.\n",
    "    * CTC TODO, explain intuitively, in detail in other summary"
   ]
  }
 ],
 "metadata": {
  "kernelspec": {
   "display_name": "Python 3",
   "language": "python",
   "name": "python3"
  },
  "language_info": {
   "codemirror_mode": {
    "name": "ipython",
    "version": 3
   },
   "file_extension": ".py",
   "mimetype": "text/x-python",
   "name": "python",
   "nbconvert_exporter": "python",
   "pygments_lexer": "ipython3",
   "version": "3.6.5"
  }
 },
 "nbformat": 4,
 "nbformat_minor": 2
}
