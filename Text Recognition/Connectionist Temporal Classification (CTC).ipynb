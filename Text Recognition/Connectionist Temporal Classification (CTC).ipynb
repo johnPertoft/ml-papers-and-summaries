{
 "cells": [
  {
   "cell_type": "markdown",
   "metadata": {},
   "source": [
    "# Connectionist Temporal Classification (CTC)\n",
    "**Problem:** \n",
    "* Input sequence $X = [x_1, \\ldots, x_T]$ and output sequence $Y = [y_1, \\ldots, y_L]$\n",
    "* E.g. speech transcription, audio sequence to text sequence.\n",
    "* $X$ and $Y$ can have different lengths.\n",
    "* Ratio of lengths of $X$ and $Y$ can be different.\n",
    "* No alignment information, i.e. we don't know which part of the input sequence corresponds to a prediction in the output sequence.\n",
    "* CTC is a way to get around not knowing this alignment.\n",
    "\n",
    "## Alignment\n",
    "* Same number of outputs as inputs.\n",
    "* CTC adds the blank token $\\epsilon$ which is only used for CTC purposes and not part of actual output.\n",
    "* $\\epsilon$ is used for aligning ouputs.\n",
    "* If the output/target sequence has repeated characters, $\\epsilon$ must be predicted inbetween them.\n",
    "* Three properties\n",
    "    * *Monotonic* alignments, can either keep the corresponding output the same or advance to next token.\n",
    "    * Alignment of $X$ to $Y$ is many-to-one, i.e. one or more input elements can align to a single output element but not the other way around.\n",
    "    * The length of $Y$ can thus not be longer than $X$.\n",
    "\n",
    "## Loss\n",
    "* For each input timestep a distribution over the output tokens and $\\epsilon$ is produced.\n",
    "* From this we can compute probabilities of different sequences.\n",
    "* Want to maximize likelihood of target sequence which is influenced by the alignments.\n",
    "\n",
    "$$\n",
    "\\begin{align*}\n",
    "p(Y | X) = \\sum_A \\prod^T_{t=1} p_t(a_t | X)\n",
    "\\end{align*}\n",
    "$$\n",
    "\n",
    "where $A$ is the set of valid alignments, the product is over each step in one specific alignment.\n",
    "\n",
    "* Number of alignments grows fast, CTC loss uses dynamic programming\n",
    "\n",
    "## Inference\n",
    "\n",
    "\n",
    "TODO:\n",
    "* seq2seq"
   ]
  },
  {
   "cell_type": "code",
   "execution_count": null,
   "metadata": {},
   "outputs": [],
   "source": []
  }
 ],
 "metadata": {
  "kernelspec": {
   "display_name": "Python 3",
   "language": "python",
   "name": "python3"
  },
  "language_info": {
   "codemirror_mode": {
    "name": "ipython",
    "version": 3
   },
   "file_extension": ".py",
   "mimetype": "text/x-python",
   "name": "python",
   "nbconvert_exporter": "python",
   "pygments_lexer": "ipython3",
   "version": "3.6.5"
  }
 },
 "nbformat": 4,
 "nbformat_minor": 2
}
