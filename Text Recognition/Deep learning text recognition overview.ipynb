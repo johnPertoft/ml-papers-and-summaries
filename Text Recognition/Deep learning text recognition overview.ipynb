{
 "cells": [
  {
   "cell_type": "markdown",
   "metadata": {
    "slideshow": {
     "slide_type": "slide"
    }
   },
   "source": [
    "# Deep learning text recognition overview\n",
    "TODO\n",
    "* nomenclature, scene text recognition, text detection etc\n",
    "    * focus on one for first presentation\n",
    "* lexicon-based / lexicon-free\n",
    "* ctc loss\n",
    "    * conceptually and some details. Separate summary for actual paper?\n",
    "* basic setup in most papers seems to be cnn + rnn\n",
    "* then adding stuff on top of this, like attention\n",
    "* benefits of rnn vs cnn for decoding\n",
    "* any attempts with transformer(-xl) architectures?\n"
   ]
  },
  {
   "cell_type": "code",
   "execution_count": null,
   "metadata": {
    "slideshow": {
     "slide_type": "slide"
    }
   },
   "outputs": [],
   "source": []
  }
 ],
 "metadata": {
  "celltoolbar": "Slideshow",
  "kernelspec": {
   "display_name": "Python 3",
   "language": "python",
   "name": "python3"
  },
  "language_info": {
   "codemirror_mode": {
    "name": "ipython",
    "version": 3
   },
   "file_extension": ".py",
   "mimetype": "text/x-python",
   "name": "python",
   "nbconvert_exporter": "python",
   "pygments_lexer": "ipython3",
   "version": "3.6.5"
  }
 },
 "nbformat": 4,
 "nbformat_minor": 2
}
